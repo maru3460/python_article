{
 "cells": [
  {
   "cell_type": "markdown",
   "metadata": {},
   "source": [
    "Java初心者のためのPython×競技プログラミング入門Day2用のPython実行用ファイルです。これをダウンロードし、google driveにアップロードした上で実行してください。\n",
    "ファイル > ダウンロード > .ipynbをダウンロード　からダウンロードできます。"
   ]
  },
  {
   "cell_type": "markdown",
   "metadata": {},
   "source": [
    "## section1 文字列操作"
   ]
  },
  {
   "cell_type": "code",
   "execution_count": null,
   "metadata": {},
   "outputs": [],
   "source": [
    "#文字列の足し算\n",
    "print('Hello' + ' ' + 'World')"
   ]
  },
  {
   "cell_type": "code",
   "execution_count": null,
   "metadata": {},
   "outputs": [],
   "source": [
    "#文字の取り出し\n",
    "s = 'hello'\n",
    "for i in range(len(s)):\n",
    "    print(s[i])"
   ]
  },
  {
   "cell_type": "code",
   "execution_count": null,
   "metadata": {},
   "outputs": [],
   "source": [
    "#スライス(部分文字列の取り出し)\n",
    "s = 'abcdefghijk'\n",
    "print(s[1:5])#これはlistでも使えます"
   ]
  },
  {
   "cell_type": "code",
   "execution_count": null,
   "metadata": {},
   "outputs": [],
   "source": [
    "#listにする\n",
    "s = 'abcdefghijk'\n",
    "print(s)\n",
    "s = list(s)\n",
    "print(s)"
   ]
  },
  {
   "cell_type": "code",
   "execution_count": null,
   "metadata": {},
   "outputs": [],
   "source": [
    "#strのlistから文字列に\n",
    "s_list = ['a', 'b', 'c', 'd', 'e']\n",
    "print(''.join(s_list))\n",
    "#s_listの要素はstrである必要があります。そのためintのlistの時は\n",
    "#print(''.join(map(str, num_list)))\n",
    "#のようにmap()をつかって各要素をstrにしてからjoinに入れる必要があります。"
   ]
  },
  {
   "cell_type": "markdown",
   "metadata": {},
   "source": [
    "課題１"
   ]
  },
  {
   "cell_type": "code",
   "execution_count": null,
   "metadata": {},
   "outputs": [],
   "source": [
    "s = 'abcdefg'\n"
   ]
  },
  {
   "cell_type": "markdown",
   "metadata": {},
   "source": [
    "## 多次元配列について"
   ]
  },
  {
   "cell_type": "code",
   "execution_count": null,
   "metadata": {},
   "outputs": [],
   "source": []
  },
  {
   "cell_type": "markdown",
   "metadata": {},
   "source": [
    "## 回答例"
   ]
  },
  {
   "cell_type": "markdown",
   "metadata": {},
   "source": [
    "課題１"
   ]
  },
  {
   "cell_type": "code",
   "execution_count": null,
   "metadata": {},
   "outputs": [],
   "source": [
    "s = 'abcdefg'\n",
    "s1 = s[1:3]\n",
    "s2 = s[4:6]\n",
    "print(s1 + s2)"
   ]
  }
 ],
 "metadata": {
  "kernelspec": {
   "display_name": "Python 3",
   "language": "python",
   "name": "python3"
  },
  "language_info": {
   "name": "python",
   "version": "3.11.4"
  }
 },
 "nbformat": 4,
 "nbformat_minor": 2
}
