{
 "cells": [
  {
   "cell_type": "markdown",
   "metadata": {},
   "source": [
    "Java初心者のためのPython×競技プログラミング入門Day4用のPython実行用ファイルです。これをダウンロードし、google driveにアップロードした上で実行してください。\n",
    "ファイル > ダウンロード > .ipynbをダウンロード　からダウンロードできます。"
   ]
  },
  {
   "cell_type": "markdown",
   "metadata": {},
   "source": [
    "## section1 文字列操作"
   ]
  },
  {
   "cell_type": "code",
   "execution_count": null,
   "metadata": {},
   "outputs": [],
   "source": [
    "#文字列の足し算\n",
    "print('Hello' + ' ' + 'World')"
   ]
  },
  {
   "cell_type": "code",
   "execution_count": null,
   "metadata": {},
   "outputs": [],
   "source": [
    "#文字の取り出し\n",
    "s = 'hello'\n",
    "for i in range(len(s)):\n",
    "    print(s[i])"
   ]
  },
  {
   "cell_type": "code",
   "execution_count": null,
   "metadata": {},
   "outputs": [],
   "source": [
    "#スライス(部分文字列の取り出し)\n",
    "s = 'abcdefghijk'\n",
    "print(s[1:5])#これはlistでも使えます"
   ]
  },
  {
   "cell_type": "code",
   "execution_count": null,
   "metadata": {},
   "outputs": [],
   "source": [
    "#listにする\n",
    "s = 'abcdefghijk'\n",
    "print(s)\n",
    "s = list(s)\n",
    "print(s)"
   ]
  },
  {
   "cell_type": "code",
   "execution_count": null,
   "metadata": {},
   "outputs": [],
   "source": [
    "#strのlistから文字列に\n",
    "s_list = ['a', 'b', 'c', 'd', 'e']\n",
    "print(''.join(s_list))\n",
    "#s_listの要素はstrである必要があります。そのためintのlistの時は\n",
    "#print(''.join(map(str, num_list)))\n",
    "#のようにmap()をつかって各要素をstrにしてからjoinに入れる必要があります。"
   ]
  },
  {
   "cell_type": "markdown",
   "metadata": {},
   "source": [
    "課題１ 「abcdefg」からbcとefを取り出し、bcefとして表示してみましょう。  "
   ]
  },
  {
   "cell_type": "code",
   "execution_count": null,
   "metadata": {},
   "outputs": [],
   "source": [
    "s = 'abcdefg'\n"
   ]
  },
  {
   "cell_type": "markdown",
   "metadata": {},
   "source": [
    "## section2 多次元配列について"
   ]
  },
  {
   "cell_type": "code",
   "execution_count": null,
   "metadata": {},
   "outputs": [],
   "source": [
    "arr = [[1, 2, 3, 4], [5, 6], [7, 8, 9]]\n",
    "\n",
    "print(arr[0])\n",
    "print(arr[1])\n",
    "print(arr[2])\n",
    "\n",
    "for i in range(len(arr)):\n",
    "    for j in range(len(arr[i])):\n",
    "        print(arr[i][j])"
   ]
  },
  {
   "cell_type": "code",
   "execution_count": null,
   "metadata": {},
   "outputs": [],
   "source": [
    "\n",
    "#x ^ 0, x ^ 1, x ^ 2\n",
    "arr = []\n",
    "for i in range(10):\n",
    "    tmp = [1, i, i ** 2]\n",
    "    arr.append(tmp)\n",
    "print(arr)\n",
    "\n",
    "#5の2乗は？\n",
    "print(arr[5][2])\n",
    "\n",
    "#3の0乗は？\n",
    "print(arr[3][0])"
   ]
  },
  {
   "cell_type": "markdown",
   "metadata": {},
   "source": [
    "問題演習１ 以下のlistの要素を、ひとつずつ取り出して表示してください。"
   ]
  },
  {
   "cell_type": "code",
   "execution_count": null,
   "metadata": {},
   "outputs": [],
   "source": [
    "arr = [[12, 23, 34], [45, 56, 67]]\n"
   ]
  },
  {
   "cell_type": "markdown",
   "metadata": {},
   "source": [
    "問題演習２ 以下のlistの要素を、ひとつずつ取り出して、並べて表示してください(day2参照)。"
   ]
  },
  {
   "cell_type": "code",
   "execution_count": null,
   "metadata": {},
   "outputs": [],
   "source": [
    "arr = [['a', 'b', 'c'], ['d', 'e', 'f', 'g']]"
   ]
  },
  {
   "cell_type": "markdown",
   "metadata": {},
   "source": [
    "問題演習３ \n",
    "大きさ：3×3\n",
    "値：縦と横のindexの和\n",
    "である二次元のlistを作ってください。\n",
    "\n",
    "ヒント\n",
    "例えばarr[3][5]の要素は3+5となります。"
   ]
  },
  {
   "cell_type": "markdown",
   "metadata": {},
   "source": [
    "## 回答例"
   ]
  },
  {
   "cell_type": "markdown",
   "metadata": {},
   "source": [
    "課題１"
   ]
  },
  {
   "cell_type": "code",
   "execution_count": null,
   "metadata": {},
   "outputs": [],
   "source": [
    "s = 'abcdefg'\n",
    "s1 = s[1:3]\n",
    "s2 = s[4:6]\n",
    "print(s1 + s2)"
   ]
  },
  {
   "cell_type": "markdown",
   "metadata": {},
   "source": [
    "問題演習1"
   ]
  },
  {
   "cell_type": "code",
   "execution_count": null,
   "metadata": {},
   "outputs": [],
   "source": [
    "arr = [[12, 23, 34], [45, 56, 67]]\n",
    "\n",
    "#listの大きさがわかっている場合はlen()を使わずに、数字をそのまま入れてしまって大丈夫です。\n",
    "for i in range(2):\n",
    "    for j in range(3):\n",
    "        print(arr[i][j])"
   ]
  },
  {
   "cell_type": "markdown",
   "metadata": {},
   "source": [
    "問題演習２"
   ]
  },
  {
   "cell_type": "code",
   "execution_count": null,
   "metadata": {},
   "outputs": [],
   "source": [
    "arr = [['a', 'b', 'c'], ['d', 'e', 'f', 'g']]\n",
    "\n",
    "for i in range(2):\n",
    "    #今回、中のlistの大きさは一定ではないので、それぞれlen()で大きさをはかりましょう\n",
    "    for j in range(len(arr[i])):\n",
    "        print(arr[i][j], end='')#引数にend=''を渡しておくことで改行がされなくなります。"
   ]
  },
  {
   "cell_type": "markdown",
   "metadata": {},
   "source": [
    "問題演習３"
   ]
  },
  {
   "cell_type": "code",
   "execution_count": null,
   "metadata": {},
   "outputs": [],
   "source": [
    "arr = []\n",
    "\n",
    "for i in range(3):\n",
    "    #arrの中に入れるlistを作っておきます。\n",
    "    tmp = []\n",
    "    for j in range(3):\n",
    "        tmp.append(i + j)\n",
    "    #値を入れた後にarrに入れます。\n",
    "    arr.append(tmp)"
   ]
  }
 ],
 "metadata": {
  "kernelspec": {
   "display_name": "Python 3",
   "language": "python",
   "name": "python3"
  },
  "language_info": {
   "codemirror_mode": {
    "name": "ipython",
    "version": 3
   },
   "file_extension": ".py",
   "mimetype": "text/x-python",
   "name": "python",
   "nbconvert_exporter": "python",
   "pygments_lexer": "ipython3",
   "version": "3.11.4"
  }
 },
 "nbformat": 4,
 "nbformat_minor": 2
}
