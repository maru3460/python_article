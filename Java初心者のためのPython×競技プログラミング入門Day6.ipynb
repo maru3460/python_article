{
 "cells": [
  {
   "cell_type": "markdown",
   "metadata": {},
   "source": [
    "Java初心者のためのPython×競技プログラミング入門Day6用のPython実行用ファイルです。これをダウンロードし、google driveにアップロードした上で実行してください。\n",
    "ファイル > ダウンロード > .ipynbをダウンロード　からダウンロードできます。"
   ]
  },
  {
   "cell_type": "markdown",
   "metadata": {},
   "source": [
    "## "
   ]
  },
  {
   "cell_type": "markdown",
   "metadata": {},
   "source": [
    "## section1 ABC324 B問題"
   ]
  },
  {
   "cell_type": "markdown",
   "metadata": {},
   "source": [
    "### 準備"
   ]
  },
  {
   "cell_type": "code",
   "execution_count": null,
   "metadata": {},
   "outputs": [],
   "source": [
    "import math\n",
    "\n",
    "print(math.log(64, 2))\n",
    "print(math.log(63, 2))"
   ]
  },
  {
   "cell_type": "code",
   "execution_count": null,
   "metadata": {},
   "outputs": [],
   "source": [
    "import math\n",
    "\n",
    "n = int(input())\n",
    "\n",
    "#int()の引数にfloatを入れた場合、小数点以下切り捨てです。\n",
    "a = int(math.log(n, 2))\n",
    "b = a + 1\n",
    "\n",
    "print(a)\n",
    "print(b)"
   ]
  },
  {
   "cell_type": "markdown",
   "metadata": {},
   "source": [
    "### アルゴリズム"
   ]
  },
  {
   "cell_type": "code",
   "execution_count": 7,
   "metadata": {},
   "outputs": [
    {
     "name": "stdout",
     "output_type": "stream",
     "text": [
      "x: 0, y: 0\n",
      "x: 0, y: 1\n",
      "x: 0, y: 2\n",
      "x: 1, y: 0\n",
      "x: 1, y: 1\n",
      "x: 1, y: 2\n",
      "x: 2, y: 0\n",
      "x: 2, y: 1\n",
      "x: 2, y: 2\n",
      "x: 3, y: 0\n",
      "x: 3, y: 1\n",
      "x: 3, y: 2\n",
      "x: 4, y: 0\n",
      "x: 4, y: 1\n",
      "x: 4, y: 2\n"
     ]
    }
   ],
   "source": [
    "for x in range(5):\n",
    "  for y in range(3):\n",
    "    print(f'x: {x}, y: {y}')"
   ]
  },
  {
   "cell_type": "markdown",
   "metadata": {},
   "source": [
    "### 解く"
   ]
  },
  {
   "cell_type": "code",
   "execution_count": 14,
   "metadata": {},
   "outputs": [
    {
     "name": "stdout",
     "output_type": "stream",
     "text": [
      "Yes\n"
     ]
    }
   ],
   "source": [
    "import math\n",
    "\n",
    "#入力を受け取る\n",
    "n = int(input())\n",
    "\n",
    "#xとyの上限を求める\n",
    "x_max = int(math.log(n, 2))\n",
    "y_max = int(math.log(n, 3))\n",
    "\n",
    "ans = 'No'\n",
    "#取りうるxとyを全て確かめていって、nになるxとyの組み合わせが見つかったらbreak\n",
    "for x in range(x_max + 1):\n",
    "  for y in range(y_max + 1):\n",
    "    if n == 2 ** x * 3 ** y:\n",
    "      ans = 'Yes'\n",
    "      break\n",
    "\n",
    "print(ans)"
   ]
  },
  {
   "cell_type": "markdown",
   "metadata": {},
   "source": [
    "## section2 ABC335 B問題"
   ]
  },
  {
   "cell_type": "code",
   "execution_count": null,
   "metadata": {},
   "outputs": [],
   "source": []
  }
 ],
 "metadata": {
  "kernelspec": {
   "display_name": "venv",
   "language": "python",
   "name": "python3"
  },
  "language_info": {
   "codemirror_mode": {
    "name": "ipython",
    "version": 3
   },
   "file_extension": ".py",
   "mimetype": "text/x-python",
   "name": "python",
   "nbconvert_exporter": "python",
   "pygments_lexer": "ipython3",
   "version": "3.11.4"
  }
 },
 "nbformat": 4,
 "nbformat_minor": 2
}
