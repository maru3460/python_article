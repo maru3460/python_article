{
 "cells": [
  {
   "cell_type": "markdown",
   "metadata": {},
   "source": [
    "Java初心者のためのPython×競技プログラミング入門Day5用のPython実行用ファイルです。これをダウンロードし、google driveにアップロードした上で実行してください。\n",
    "ファイル > ダウンロード > .ipynbをダウンロード　からダウンロードできます。"
   ]
  },
  {
   "cell_type": "markdown",
   "metadata": {},
   "source": [
    "## section1 ソート(並び替え)"
   ]
  },
  {
   "cell_type": "code",
   "execution_count": null,
   "metadata": {
    "vscode": {
     "languageId": "plaintext"
    }
   },
   "outputs": [],
   "source": []
  }
 ],
 "metadata": {
  "language_info": {
   "name": "python"
  }
 },
 "nbformat": 4,
 "nbformat_minor": 2
}
