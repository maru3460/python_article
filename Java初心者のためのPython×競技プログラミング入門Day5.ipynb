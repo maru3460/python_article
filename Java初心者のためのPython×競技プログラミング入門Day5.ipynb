{
 "cells": [
  {
   "cell_type": "markdown",
   "metadata": {},
   "source": [
    "Java初心者のためのPython×競技プログラミング入門Day5用のPython実行用ファイルです。これをダウンロードし、google driveにアップロードした上で実行してください。\n",
    "ファイル > ダウンロード > .ipynbをダウンロード　からダウンロードできます。"
   ]
  },
  {
   "cell_type": "markdown",
   "metadata": {},
   "source": [
    "## section1 ソートについて"
   ]
  },
  {
   "cell_type": "code",
   "execution_count": 2,
   "metadata": {},
   "outputs": [
    {
     "name": "stdout",
     "output_type": "stream",
     "text": [
      "[0, 1, 1, 2, 3, 4, 5, 6, 8]\n"
     ]
    }
   ],
   "source": [
    "arr = [4, 1, 8, 3, 6, 2, 0, 5, 1]\n",
    "\n",
    "for i in range(len(arr) - 1):\n",
    "    for j in range(len(arr) - 1 - i):\n",
    "        if arr[j] > arr[j + 1]:\n",
    "            arr[j], arr[j + 1] = arr[j + 1], arr[j]\n",
    "\n",
    "print(arr)"
   ]
  },
  {
   "cell_type": "code",
   "execution_count": 3,
   "metadata": {},
   "outputs": [
    {
     "name": "stdout",
     "output_type": "stream",
     "text": [
      "[0, 1, 1, 2, 3, 4, 5, 6, 8]\n"
     ]
    }
   ],
   "source": [
    "arr = [4, 1, 8, 3, 6, 2, 0, 5, 1]\n",
    "\n",
    "arr.sort()\n",
    "\n",
    "print(arr)"
   ]
  },
  {
   "cell_type": "code",
   "execution_count": 4,
   "metadata": {},
   "outputs": [
    {
     "name": "stdout",
     "output_type": "stream",
     "text": [
      "[8, 6, 5, 4, 3, 2, 1, 1, 0]\n"
     ]
    }
   ],
   "source": [
    "arr = [4, 1, 8, 3, 6, 2, 0, 5, 1]\n",
    "\n",
    "arr = sorted(arr, reverse=True)\n",
    "\n",
    "print(arr)"
   ]
  },
  {
   "cell_type": "markdown",
   "metadata": {},
   "source": [
    "課題１ 以下のリストを降順にソートして、順番に表示してください。"
   ]
  },
  {
   "cell_type": "code",
   "execution_count": null,
   "metadata": {},
   "outputs": [],
   "source": [
    "arr = [4, 7, 23, 6785, 3, 4, 234, 56, 235, 45, 7, 34, 5, 45, 7]"
   ]
  },
  {
   "cell_type": "markdown",
   "metadata": {},
   "source": [
    "## section2 探索について"
   ]
  },
  {
   "cell_type": "code",
   "execution_count": null,
   "metadata": {},
   "outputs": [],
   "source": [
    "arr = [4, 1, 8, 3, 6, 2, 0, 5, 1]\n",
    "\n",
    "arr.sort()\n",
    "print(arr[0])\n",
    "print(arr[len(arr) - 1])"
   ]
  },
  {
   "cell_type": "code",
   "execution_count": null,
   "metadata": {},
   "outputs": [],
   "source": [
    "arr = [4, 1, 8, 3, 6, 2, 0, 5, 1]\n",
    "\n",
    "#一つずつチェックしていって、求める値が見つかったらbreak\n",
    "for i in range(len(arr)):\n",
    "    if arr[i] == 6:\n",
    "        ans = i\n",
    "        break\n",
    "\n",
    "print(ans)"
   ]
  },
  {
   "cell_type": "markdown",
   "metadata": {},
   "source": [
    "課題２ 以下の二次元listから、一つ目の値が8であるものの二つ目の値を出力してください。"
   ]
  },
  {
   "cell_type": "code",
   "execution_count": null,
   "metadata": {},
   "outputs": [],
   "source": [
    "arr = []\n",
    "for i in range(10):\n",
    "    arr.append([i, i * 2])\n",
    "#arr = [[0, 0], [1, 2], [2, 4], [3, 6], [4, 8], [5, 10], [6, 12], [7, 14], [8, 16], [9, 18]]\n"
   ]
  },
  {
   "cell_type": "markdown",
   "metadata": {},
   "source": [
    "## section3　関数について"
   ]
  },
  {
   "cell_type": "code",
   "execution_count": null,
   "metadata": {},
   "outputs": [],
   "source": [
    "def func(a, b):\n",
    "    return a + b\n",
    "\n",
    "print(func(1, 2))"
   ]
  },
  {
   "cell_type": "code",
   "execution_count": 8,
   "metadata": {},
   "outputs": [
    {
     "name": "stdout",
     "output_type": "stream",
     "text": [
      "101\n"
     ]
    }
   ],
   "source": [
    "num = 1\n",
    "\n",
    "def func():\n",
    "    global num\n",
    "    num += 1\n",
    "\n",
    "for i in range(100):\n",
    "    func()\n",
    "\n",
    "print(num)"
   ]
  },
  {
   "cell_type": "markdown",
   "metadata": {},
   "source": [
    "課題３ 引数が2の倍数であれば1、それ以外は0を返す関数を定義し、以下のlistの値にそれぞれ適用していって、出力していってください。"
   ]
  },
  {
   "cell_type": "code",
   "execution_count": null,
   "metadata": {},
   "outputs": [],
   "source": [
    "arr = list(range(10))"
   ]
  },
  {
   "cell_type": "markdown",
   "metadata": {},
   "source": [
    "## 回答例"
   ]
  },
  {
   "cell_type": "markdown",
   "metadata": {},
   "source": [
    "課題１"
   ]
  },
  {
   "cell_type": "code",
   "execution_count": null,
   "metadata": {},
   "outputs": [],
   "source": [
    "arr = [4, 7, 23, 6785, 3, 4, 234, 56, 235, 45, 7, 34, 5, 45, 7]\n",
    "\n",
    "arr.sort()\n",
    "\n",
    "for i in range(len(arr)):\n",
    "    print(arr[i])"
   ]
  },
  {
   "cell_type": "markdown",
   "metadata": {},
   "source": [
    "課題２"
   ]
  },
  {
   "cell_type": "code",
   "execution_count": null,
   "metadata": {},
   "outputs": [],
   "source": [
    "arr = []\n",
    "for i in range(10):\n",
    "    arr.append([i, i * 2])\n",
    "#arr = [[0, 0], [1, 2], [2, 4], [3, 6], [4, 8], [5, 10], [6, 12], [7, 14], [8, 16], [9, 18]]\n",
    "\n",
    "for i in range(len(arr)):\n",
    "    if arr[i][0] == 8:\n",
    "        ans = arr[i][1]\n",
    "        break\n",
    "\n",
    "print(ans)"
   ]
  },
  {
   "cell_type": "markdown",
   "metadata": {},
   "source": [
    "課題３ 引数が2の倍数であれば1、それ以外は0を返す関数を定義し、以下のlistの値にそれぞれ適用していって、出力していってください。"
   ]
  },
  {
   "cell_type": "code",
   "execution_count": null,
   "metadata": {},
   "outputs": [],
   "source": [
    "arr = list(range(10))\n",
    "\n",
    "def func(n):\n",
    "    if n % 2 == 0:\n",
    "        rtn = 1\n",
    "    else:\n",
    "        rtn = 0\n",
    "    return rtn\n",
    "\n",
    "for i in range(len(arr)):\n",
    "    print(func(arr[i]))"
   ]
  }
 ],
 "metadata": {
  "kernelspec": {
   "display_name": "venv",
   "language": "python",
   "name": "python3"
  },
  "language_info": {
   "codemirror_mode": {
    "name": "ipython",
    "version": 3
   },
   "file_extension": ".py",
   "mimetype": "text/x-python",
   "name": "python",
   "nbconvert_exporter": "python",
   "pygments_lexer": "ipython3",
   "version": "3.11.4"
  }
 },
 "nbformat": 4,
 "nbformat_minor": 2
}
