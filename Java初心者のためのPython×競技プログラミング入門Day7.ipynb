{
 "cells": [
  {
   "cell_type": "markdown",
   "metadata": {},
   "source": [
    "Java初心者のためのPython×競技プログラミング入門Day7用のPython実行用ファイルです。これをダウンロードし、google driveにアップロードした上で実行してください。\n",
    "ファイル > ダウンロード > .ipynbをダウンロード　からダウンロードできます。"
   ]
  },
  {
   "cell_type": "markdown",
   "metadata": {},
   "source": [
    "## section1 解く"
   ]
  },
  {
   "cell_type": "code",
   "execution_count": null,
   "metadata": {},
   "outputs": [],
   "source": []
  },
  {
   "cell_type": "code",
   "execution_count": null,
   "metadata": {},
   "outputs": [],
   "source": [
    "char_set = []\n",
    "\n",
    "n = ord('a')\n",
    "for i in range(26):\n",
    "    char_set.append(chr(n + i))\n",
    "\n",
    "print(char_set)\n",
    "\n",
    "chars = {}\n",
    "for i in range(26):\n",
    "    chars[char_set[i]] = 0\n",
    "\n",
    "print(chars)"
   ]
  },
  {
   "cell_type": "markdown",
   "metadata": {},
   "source": [
    "ダミー"
   ]
  },
  {
   "cell_type": "markdown",
   "metadata": {},
   "source": [
    "ダミー"
   ]
  },
  {
   "cell_type": "markdown",
   "metadata": {},
   "source": [
    "ダミー"
   ]
  },
  {
   "cell_type": "markdown",
   "metadata": {},
   "source": [
    "ダミー"
   ]
  },
  {
   "cell_type": "markdown",
   "metadata": {},
   "source": [
    "途中まで"
   ]
  },
  {
   "cell_type": "code",
   "execution_count": null,
   "metadata": {},
   "outputs": [],
   "source": [
    "#入力を受け取る\n",
    "s = input()\n",
    "\n",
    "#char_setとcharsを作っておく\n",
    "char_set = []\n",
    "chars = {}\n",
    "\n",
    "n = ord('a')\n",
    "for i in range(26):\n",
    "    char_set.append(chr(n + i))\n",
    "for i in range(26):\n",
    "    chars[char_set[i]] = 0\n",
    "\n",
    "#出現回数を数える\n",
    "for i in range(len(s)):\n",
    "    chars[s[i]] += 1"
   ]
  },
  {
   "cell_type": "markdown",
   "metadata": {},
   "source": [
    "ダミー"
   ]
  },
  {
   "cell_type": "markdown",
   "metadata": {},
   "source": [
    "ダミー"
   ]
  },
  {
   "cell_type": "markdown",
   "metadata": {},
   "source": [
    "ダミー"
   ]
  },
  {
   "cell_type": "markdown",
   "metadata": {},
   "source": [
    "ダミー"
   ]
  },
  {
   "cell_type": "markdown",
   "metadata": {},
   "source": [
    "## 回答例"
   ]
  },
  {
   "cell_type": "code",
   "execution_count": 7,
   "metadata": {},
   "outputs": [
    {
     "name": "stdout",
     "output_type": "stream",
     "text": [
      "o\n"
     ]
    }
   ],
   "source": [
    "#入力を受け取る\n",
    "s = input()\n",
    "\n",
    "#char_setとcharsを作っておく\n",
    "char_set = []\n",
    "chars = {}\n",
    "\n",
    "n = ord('a')\n",
    "for i in range(26):\n",
    "    char_set.append(chr(n + i))\n",
    "for i in range(26):\n",
    "    chars[char_set[i]] = 0\n",
    "\n",
    "#出現回数を数える\n",
    "for i in range(len(s)):\n",
    "    chars[s[i]] += 1\n",
    "\n",
    "#aを初期値としておいて、残りのアルファベットと比較をしていく\n",
    "ans = 'a'\n",
    "ans_num = chars['a']\n",
    "for char in char_set:\n",
    "    if chars[char] > ans_num:\n",
    "        ans = char\n",
    "        ans_num = chars[char]\n",
    "\n",
    "print(ans)"
   ]
  }
 ],
 "metadata": {
  "kernelspec": {
   "display_name": "venv",
   "language": "python",
   "name": "python3"
  },
  "language_info": {
   "codemirror_mode": {
    "name": "ipython",
    "version": 3
   },
   "file_extension": ".py",
   "mimetype": "text/x-python",
   "name": "python",
   "nbconvert_exporter": "python",
   "pygments_lexer": "ipython3",
   "version": "3.11.4"
  }
 },
 "nbformat": 4,
 "nbformat_minor": 2
}
